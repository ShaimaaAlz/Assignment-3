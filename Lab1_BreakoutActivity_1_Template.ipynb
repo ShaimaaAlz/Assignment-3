{
  "nbformat": 4,
  "nbformat_minor": 0,
  "metadata": {
    "colab": {
      "provenance": [],
      "include_colab_link": true
    },
    "kernelspec": {
      "name": "python3",
      "display_name": "Python 3"
    },
    "language_info": {
      "name": "python"
    }
  },
  "cells": [
    {
      "cell_type": "markdown",
      "metadata": {
        "id": "view-in-github",
        "colab_type": "text"
      },
      "source": [
        "<a href=\"https://colab.research.google.com/github/ShaimaaAlz/Assignment-3/blob/main/Lab1_BreakoutActivity_1_Template.ipynb\" target=\"_parent\"><img src=\"https://colab.research.google.com/assets/colab-badge.svg\" alt=\"Open In Colab\"/></a>"
      ]
    },
    {
      "cell_type": "markdown",
      "source": [
        "**BREAKOUT 1:**\n",
        "You are given three Pandas Series, series1, series2, & series3, with the following data.\n",
        "\n",
        "import pandas as pd\n",
        "\n",
        "series1 = pd.Series([10, 20, 30, 40, 50])\n",
        "\n",
        "series2 = pd.Series([5, -10, 15, -20, 50])\n",
        "\n",
        "series3 = pd.Series([12, 18, 27, 36, 42])\n",
        "\n",
        "\n",
        "**Import appropriate libraries.**\n",
        "\n",
        "**Perform the following tasks using Pandas**:\n",
        "\n",
        "**Concatenation**: Concatenate series1 & series2 to create a new Series called \"concatenated_series\". # use the concat func\n",
        "\n",
        "**Mean Calculation**: Calculate the mean value of series3. mean function to usre\n",
        "\n",
        "**Replacing Negatives**: Replace all negative values in series2 with NaN. Store the modified Series in series2_modified.\n",
        "\n",
        "series 2>=0\n",
        "\n",
        "**Filtering Elements**: Create a new Series, filtered_series, that contains only the elements from series1 that are also present in series2.\n",
        "\n",
        "f_s=series1.isin\n",
        "\n",
        "**Top 3 Maximum Values**: Find the index labels of the top 3 maximum values in series3. Store these index labels in a list called top3_max_indices.\n",
        "\n",
        "**Dataframe Creation**: Merge series1 & series2 into a single DataFrame with appropriate column names. Name the DataFrame merged_df.\n",
        "\n",
        "merge function\n",
        "\n",
        "For each task, write the code to accomplish it & print the output or result of each task."
      ],
      "metadata": {
        "id": "_bhaCVyNk1c_"
      }
    },
    {
      "cell_type": "code",
      "source": [
        "\n",
        "\n",
        "# Concatenation\n",
        "\n",
        "\n",
        "series1 = pd.Series([10, 20, 30, 40, 50])\n",
        "\n",
        "series2 = pd.Series([5, -10, 15, -20, 50])\n",
        "\n",
        "series3 = pd.Series([12, 18, 27, 36, 42])"
      ],
      "metadata": {
        "id": "p_APfvmtlgAe"
      },
      "execution_count": null,
      "outputs": []
    },
    {
      "cell_type": "code",
      "source": [
        "#Mean Calculation\n"
      ],
      "metadata": {
        "id": "YohHYUQhm0si"
      },
      "execution_count": null,
      "outputs": []
    },
    {
      "cell_type": "code",
      "source": [
        "#Replacing Negatives values in series 2\n"
      ],
      "metadata": {
        "id": "w8sFAcWRnQOi"
      },
      "execution_count": null,
      "outputs": []
    },
    {
      "cell_type": "code",
      "source": [
        "#Filter Elements\n"
      ],
      "metadata": {
        "id": "Xw2xX-C1oyFW"
      },
      "execution_count": null,
      "outputs": []
    },
    {
      "cell_type": "code",
      "source": [
        "#Top 3 maximum values\n"
      ],
      "metadata": {
        "id": "sf9zdxhIpzug"
      },
      "execution_count": null,
      "outputs": []
    },
    {
      "cell_type": "code",
      "source": [
        "#Merge Series\n"
      ],
      "metadata": {
        "id": "hwO5Qppbpzzq"
      },
      "execution_count": null,
      "outputs": []
    },
    {
      "cell_type": "markdown",
      "source": [
        "*** Q- 2***\n",
        "[This part of the notebook will be considered in the second breakout. If you finish breakout 1 early, you can start working on it during breakout 1]\n",
        "\n",
        "In this problem, you need to perform several data analysis tasks using Pandas\n",
        "Visit the UCI Machine Learning Repository's \"[Online Retail Data Set](https://archive.ics.uci.edu/dataset/352/online+retail)\" page:\n",
        "Online Retail Data Set\n",
        "\n",
        "On that page, you'll find a \"**Data Folder**\" section. Download the \"Online Retail.xlsx\" dataset file.\n",
        "\n",
        "Once downloaded, you can load this dataset into a Pandas DataFrame using pandas.read_excel function.\n",
        "\n",
        "**Task 1:** Describe the dataset and Display few rows of the datset.\n",
        "##head\n",
        "**Task 2**: Calculate the sales amount for each transaction by multiplying the \"Quantity\" by the \"UnitPrice.\"\n",
        "\n",
        "# qty*unit_price\n",
        "\n",
        "**Task 3**: Group the data by \"Country\" and calculate the total sales for each country. Rename the column representing total sales to Total_Sales. and finally display the resulting data frame showing the \"Country\" & \"Total_Sales\".\n",
        "\n",
        "use the groupby\n",
        "\n",
        "**Task 4**: Calculate the total sales amount for each country by grouping the data based on \"Country.\" Display the name of the country with the highest total sales and the corresponding total sales amount.\n",
        "\n",
        "**Task 5**: Find & Display the month with the highest average sales\n",
        "\n",
        "\n",
        "print\n"
      ],
      "metadata": {
        "id": "vLMhuV3Nr0ql"
      }
    },
    {
      "cell_type": "markdown",
      "source": [],
      "metadata": {
        "id": "3ez3qcQpAxKb"
      }
    },
    {
      "cell_type": "code",
      "source": [
        "#Upload and Read the excel file\n"
      ],
      "metadata": {
        "id": "kdff6HUetsp5"
      },
      "execution_count": null,
      "outputs": []
    },
    {
      "cell_type": "code",
      "source": [
        "#Task 1: Describe the dataset and Display few rows of the datset.\n",
        "# The dataset includes various columns, such as \"InvoiceNo,\" \"StockCode,\" \"Description,\" \"Quantity,\" \"InvoiceDate,\" \"UnitPrice,\" \"CustomerID,\" and \"Country.\"*\n",
        "#Students may describe the type of data in their answer.\n",
        "\n"
      ],
      "metadata": {
        "id": "7zdQjNSTyr9z"
      },
      "execution_count": null,
      "outputs": []
    },
    {
      "cell_type": "code",
      "source": [
        "#Task 2: Calculate the sales amount for each transaction by multiplying the \"Quantity\" by the \"UnitPrice.\"\n"
      ],
      "metadata": {
        "id": "Fe_wjWhU04oQ"
      },
      "execution_count": null,
      "outputs": []
    },
    {
      "cell_type": "code",
      "source": [
        "#Task 3: Group the data by \"Country\" and calculate the total sales for each country. Rename the column representing total sales to Total_Sales. and finally display the resulting data frame showing the \"Country\" & \"Total_Sales\"."
      ],
      "metadata": {
        "id": "R8kYhDoS1n3m"
      },
      "execution_count": null,
      "outputs": []
    },
    {
      "cell_type": "code",
      "source": [
        "#Task 4: Calculate the total sales amount for each country by grouping the data based on \"Country.\" Display the name of the country with the highest total sales and the corresponding total sales amount.\n"
      ],
      "metadata": {
        "id": "jWrXJF_z2lJc"
      },
      "execution_count": null,
      "outputs": []
    },
    {
      "cell_type": "code",
      "source": [
        "#Task 5: Find & Display the month with the highest average sales\n"
      ],
      "metadata": {
        "id": "6uRtKyopfnMP"
      },
      "execution_count": null,
      "outputs": []
    }
  ]
}