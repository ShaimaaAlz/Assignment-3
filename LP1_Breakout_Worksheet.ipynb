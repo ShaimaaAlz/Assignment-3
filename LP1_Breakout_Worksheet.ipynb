{
  "nbformat": 4,
  "nbformat_minor": 0,
  "metadata": {
    "colab": {
      "provenance": [],
      "include_colab_link": true
    },
    "kernelspec": {
      "name": "python3",
      "display_name": "Python 3"
    },
    "language_info": {
      "name": "python"
    }
  },
  "cells": [
    {
      "cell_type": "markdown",
      "metadata": {
        "id": "view-in-github",
        "colab_type": "text"
      },
      "source": [
        "<a href=\"https://colab.research.google.com/github/ShaimaaAlz/Assignment-3/blob/main/LP1_Breakout_Worksheet.ipynb\" target=\"_parent\"><img src=\"https://colab.research.google.com/assets/colab-badge.svg\" alt=\"Open In Colab\"/></a>"
      ]
    },
    {
      "cell_type": "markdown",
      "source": [
        "Breakout Workbook"
      ],
      "metadata": {
        "id": "yXmomlBEi37d"
      }
    },
    {
      "cell_type": "code",
      "execution_count": null,
      "metadata": {
        "id": "3-wf12UUixEf"
      },
      "outputs": [],
      "source": [
        "#Dataset:\n",
        "\n",
        "#You are given a dataset containing information about various houses. Your task is to build a simple linear regression model to predict the price of a house based on its square footage.\n",
        "##The dataset includes two columns: \"Square_Feet\" (the square footage of the house) and \"Price\" (the price of the house).\n",
        "\n",
        "#You may use the following data:\n",
        "import numpy as np\n",
        "\n",
        "square_feet = np.array([1400, 1600, 1700, 1875, 1100, 1550, 2350, 2450, 1425, 1700])\n",
        "price = np.array([245000, 312000, 279000, 308000, 199000, 219000, 405000, 324000, 319000, 255000])"
      ]
    },
    {
      "cell_type": "markdown",
      "source": [
        "Step 1: Install the necessary libraries\n",
        "\n",
        "*   NumPy: pip install numpy\n",
        "*   Matplotlib: pip install matplotlib\n",
        "*   scikit-learn (sklearn): pip install scikit-learn\n"
      ],
      "metadata": {
        "id": "nM7nP_lyjQzQ"
      }
    },
    {
      "cell_type": "code",
      "source": [],
      "metadata": {
        "id": "JyrbfScONCYf"
      },
      "execution_count": null,
      "outputs": []
    },
    {
      "cell_type": "markdown",
      "source": [
        ":Step2: Use the Sample dataset (Square_Feet and Price) to create np arrays"
      ],
      "metadata": {
        "id": "4QNovwmtiz0l"
      }
    },
    {
      "cell_type": "code",
      "source": [],
      "metadata": {
        "id": "MIRapZVYjtb_"
      },
      "execution_count": null,
      "outputs": []
    },
    {
      "cell_type": "markdown",
      "source": [
        "Step 3: Reshape the data"
      ],
      "metadata": {
        "id": "cw3bNQ4xjuBJ"
      }
    },
    {
      "cell_type": "code",
      "source": [],
      "metadata": {
        "id": "u1kXHRqcjy4W"
      },
      "execution_count": null,
      "outputs": []
    },
    {
      "cell_type": "markdown",
      "source": [
        "Step 4: Split the data into training and testing sets with a split ratio of\n",
        "\n",
        "1.   List item\n",
        "2.   List item\n",
        "\n",
        "80:20"
      ],
      "metadata": {
        "id": "h9NiwEuIjzSZ"
      }
    },
    {
      "cell_type": "code",
      "source": [],
      "metadata": {
        "id": "ksI2iiRpj41W"
      },
      "execution_count": null,
      "outputs": []
    },
    {
      "cell_type": "markdown",
      "source": [
        "Step 5: Create a Linear Regression model & train the model on the training data"
      ],
      "metadata": {
        "id": "V3A_o_F1j5be"
      }
    },
    {
      "cell_type": "code",
      "source": [],
      "metadata": {
        "id": "nhgImjouj_ig"
      },
      "execution_count": null,
      "outputs": []
    },
    {
      "cell_type": "markdown",
      "source": [
        "Step 6: Make predictions on the test data."
      ],
      "metadata": {
        "id": "cd2N1O3EkAZL"
      }
    },
    {
      "cell_type": "code",
      "source": [],
      "metadata": {
        "id": "_MEV-Gr3j_7B"
      },
      "execution_count": null,
      "outputs": []
    },
    {
      "cell_type": "markdown",
      "source": [
        "Step 7: Calculate the coefficients and intercept of the regression line."
      ],
      "metadata": {
        "id": "Rbd7wFdMkGHQ"
      }
    },
    {
      "cell_type": "code",
      "source": [],
      "metadata": {
        "id": "Sp5xDeuPkJRk"
      },
      "execution_count": null,
      "outputs": []
    },
    {
      "cell_type": "markdown",
      "source": [
        "Step 8: Visualize the data and regression line"
      ],
      "metadata": {
        "id": "91vnZkOYkJ_w"
      }
    },
    {
      "cell_type": "code",
      "source": [],
      "metadata": {
        "id": "5cfP3czhkMrj"
      },
      "execution_count": null,
      "outputs": []
    }
  ]
}